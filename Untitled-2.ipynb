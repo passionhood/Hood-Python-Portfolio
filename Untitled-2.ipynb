{
 "cells": [
  {
   "cell_type": "code",
   "execution_count": 2,
   "metadata": {},
   "outputs": [
    {
     "name": "stdout",
     "output_type": "stream",
     "text": [
      "Requirement already satisfied: spacy in /opt/anaconda3/lib/python3.12/site-packages (3.8.4)\n",
      "Requirement already satisfied: spacy-legacy<3.1.0,>=3.0.11 in /opt/anaconda3/lib/python3.12/site-packages (from spacy) (3.0.12)\n",
      "Requirement already satisfied: spacy-loggers<2.0.0,>=1.0.0 in /opt/anaconda3/lib/python3.12/site-packages (from spacy) (1.0.5)\n",
      "Requirement already satisfied: murmurhash<1.1.0,>=0.28.0 in /opt/anaconda3/lib/python3.12/site-packages (from spacy) (1.0.12)\n",
      "Requirement already satisfied: cymem<2.1.0,>=2.0.2 in /opt/anaconda3/lib/python3.12/site-packages (from spacy) (2.0.11)\n",
      "Requirement already satisfied: preshed<3.1.0,>=3.0.2 in /opt/anaconda3/lib/python3.12/site-packages (from spacy) (3.0.9)\n",
      "Requirement already satisfied: thinc<8.4.0,>=8.3.4 in /opt/anaconda3/lib/python3.12/site-packages (from spacy) (8.3.4)\n",
      "Requirement already satisfied: wasabi<1.2.0,>=0.9.1 in /opt/anaconda3/lib/python3.12/site-packages (from spacy) (1.1.3)\n",
      "Requirement already satisfied: srsly<3.0.0,>=2.4.3 in /opt/anaconda3/lib/python3.12/site-packages (from spacy) (2.5.1)\n",
      "Requirement already satisfied: catalogue<2.1.0,>=2.0.6 in /opt/anaconda3/lib/python3.12/site-packages (from spacy) (2.0.10)\n",
      "Requirement already satisfied: weasel<0.5.0,>=0.1.0 in /opt/anaconda3/lib/python3.12/site-packages (from spacy) (0.4.1)\n",
      "Requirement already satisfied: typer<1.0.0,>=0.3.0 in /opt/anaconda3/lib/python3.12/site-packages (from spacy) (0.15.2)\n",
      "Requirement already satisfied: tqdm<5.0.0,>=4.38.0 in /opt/anaconda3/lib/python3.12/site-packages (from spacy) (4.66.5)\n",
      "Requirement already satisfied: numpy>=1.19.0 in /opt/anaconda3/lib/python3.12/site-packages (from spacy) (1.26.4)\n",
      "Requirement already satisfied: requests<3.0.0,>=2.13.0 in /opt/anaconda3/lib/python3.12/site-packages (from spacy) (2.32.3)\n",
      "Requirement already satisfied: pydantic!=1.8,!=1.8.1,<3.0.0,>=1.7.4 in /opt/anaconda3/lib/python3.12/site-packages (from spacy) (2.8.2)\n",
      "Requirement already satisfied: jinja2 in /opt/anaconda3/lib/python3.12/site-packages (from spacy) (3.1.4)\n",
      "Requirement already satisfied: setuptools in /opt/anaconda3/lib/python3.12/site-packages (from spacy) (75.1.0)\n",
      "Requirement already satisfied: packaging>=20.0 in /opt/anaconda3/lib/python3.12/site-packages (from spacy) (24.1)\n",
      "Requirement already satisfied: langcodes<4.0.0,>=3.2.0 in /opt/anaconda3/lib/python3.12/site-packages (from spacy) (3.5.0)\n",
      "Requirement already satisfied: language-data>=1.2 in /opt/anaconda3/lib/python3.12/site-packages (from langcodes<4.0.0,>=3.2.0->spacy) (1.3.0)\n",
      "Requirement already satisfied: annotated-types>=0.4.0 in /opt/anaconda3/lib/python3.12/site-packages (from pydantic!=1.8,!=1.8.1,<3.0.0,>=1.7.4->spacy) (0.6.0)\n",
      "Requirement already satisfied: pydantic-core==2.20.1 in /opt/anaconda3/lib/python3.12/site-packages (from pydantic!=1.8,!=1.8.1,<3.0.0,>=1.7.4->spacy) (2.20.1)\n",
      "Requirement already satisfied: typing-extensions>=4.6.1 in /opt/anaconda3/lib/python3.12/site-packages (from pydantic!=1.8,!=1.8.1,<3.0.0,>=1.7.4->spacy) (4.11.0)\n",
      "Requirement already satisfied: charset-normalizer<4,>=2 in /opt/anaconda3/lib/python3.12/site-packages (from requests<3.0.0,>=2.13.0->spacy) (3.3.2)\n",
      "Requirement already satisfied: idna<4,>=2.5 in /opt/anaconda3/lib/python3.12/site-packages (from requests<3.0.0,>=2.13.0->spacy) (3.7)\n",
      "Requirement already satisfied: urllib3<3,>=1.21.1 in /opt/anaconda3/lib/python3.12/site-packages (from requests<3.0.0,>=2.13.0->spacy) (2.2.3)\n",
      "Requirement already satisfied: certifi>=2017.4.17 in /opt/anaconda3/lib/python3.12/site-packages (from requests<3.0.0,>=2.13.0->spacy) (2024.8.30)\n",
      "Requirement already satisfied: blis<1.3.0,>=1.2.0 in /opt/anaconda3/lib/python3.12/site-packages (from thinc<8.4.0,>=8.3.4->spacy) (1.2.0)\n",
      "Requirement already satisfied: confection<1.0.0,>=0.0.1 in /opt/anaconda3/lib/python3.12/site-packages (from thinc<8.4.0,>=8.3.4->spacy) (0.1.5)\n",
      "Requirement already satisfied: click>=8.0.0 in /opt/anaconda3/lib/python3.12/site-packages (from typer<1.0.0,>=0.3.0->spacy) (8.1.7)\n",
      "Requirement already satisfied: shellingham>=1.3.0 in /opt/anaconda3/lib/python3.12/site-packages (from typer<1.0.0,>=0.3.0->spacy) (1.5.4)\n",
      "Requirement already satisfied: rich>=10.11.0 in /opt/anaconda3/lib/python3.12/site-packages (from typer<1.0.0,>=0.3.0->spacy) (13.7.1)\n",
      "Requirement already satisfied: cloudpathlib<1.0.0,>=0.7.0 in /opt/anaconda3/lib/python3.12/site-packages (from weasel<0.5.0,>=0.1.0->spacy) (0.21.0)\n",
      "Requirement already satisfied: smart-open<8.0.0,>=5.2.1 in /opt/anaconda3/lib/python3.12/site-packages (from weasel<0.5.0,>=0.1.0->spacy) (5.2.1)\n",
      "Requirement already satisfied: MarkupSafe>=2.0 in /opt/anaconda3/lib/python3.12/site-packages (from jinja2->spacy) (2.1.3)\n",
      "Requirement already satisfied: marisa-trie>=1.1.0 in /opt/anaconda3/lib/python3.12/site-packages (from language-data>=1.2->langcodes<4.0.0,>=3.2.0->spacy) (1.2.1)\n",
      "Requirement already satisfied: markdown-it-py>=2.2.0 in /opt/anaconda3/lib/python3.12/site-packages (from rich>=10.11.0->typer<1.0.0,>=0.3.0->spacy) (2.2.0)\n",
      "Requirement already satisfied: pygments<3.0.0,>=2.13.0 in /opt/anaconda3/lib/python3.12/site-packages (from rich>=10.11.0->typer<1.0.0,>=0.3.0->spacy) (2.15.1)\n",
      "Requirement already satisfied: mdurl~=0.1 in /opt/anaconda3/lib/python3.12/site-packages (from markdown-it-py>=2.2.0->rich>=10.11.0->typer<1.0.0,>=0.3.0->spacy) (0.1.0)\n",
      "Collecting en-core-web-sm==3.8.0\n",
      "  Downloading https://github.com/explosion/spacy-models/releases/download/en_core_web_sm-3.8.0/en_core_web_sm-3.8.0-py3-none-any.whl (12.8 MB)\n",
      "\u001b[2K     \u001b[90m━━━━━━━━━━━━━━━━━━━━━━━━━━━━━━━━━━━━━━━━\u001b[0m \u001b[32m12.8/12.8 MB\u001b[0m \u001b[31m3.9 MB/s\u001b[0m eta \u001b[36m0:00:00\u001b[0m00:01\u001b[0m00:01\u001b[0m\n",
      "\u001b[?25h\u001b[38;5;2m✔ Download and installation successful\u001b[0m\n",
      "You can now load the package via spacy.load('en_core_web_sm')\n"
     ]
    }
   ],
   "source": [
    "# Installing the spaCy library\n",
    "!pip install spacy\n",
    "\n",
    "# Installing the small English language model used by spaCy\n",
    "!python -m spacy download en_core_web_sm "
   ]
  },
  {
   "cell_type": "code",
   "execution_count": null,
   "metadata": {},
   "outputs": [],
   "source": [
    "import spacy # Loads spaCy model\n",
    "nlp = spacy.load(\"en_core_web_sm\") # This code demonstrates tokenization, POS tagging, NER, and experimentation with spaCy"
   ]
  },
  {
   "cell_type": "code",
   "execution_count": null,
   "metadata": {},
   "outputs": [
    {
     "name": "stdout",
     "output_type": "stream",
     "text": [
      "Task 1: Tokenization\n",
      "Token: The, Head: fox, Lemma: the, Morph: Definite=Def|PronType=Art\n",
      "Token: quick, Head: fox, Lemma: quick, Morph: Degree=Pos\n",
      "Token: brown, Head: fox, Lemma: brown, Morph: Degree=Pos\n",
      "Token: fox, Head: jump, Lemma: fox, Morph: Number=Sing\n",
      "Token: does, Head: jump, Lemma: do, Morph: Mood=Ind|Number=Sing|Person=3|Tense=Pres|VerbForm=Fin\n",
      "Token: n't, Head: jump, Lemma: not, Morph: Polarity=Neg\n",
      "Token: jump, Head: jump, Lemma: jump, Morph: VerbForm=Inf\n",
      "Token: over, Head: jump, Lemma: over, Morph: \n",
      "Token: the, Head: dog, Lemma: the, Morph: Definite=Def|PronType=Art\n",
      "Token: lazy, Head: dog, Lemma: lazy, Morph: Degree=Pos\n",
      "Token: dog, Head: over, Lemma: dog, Morph: Number=Sing\n",
      "Token: ., Head: jump, Lemma: ., Morph: PunctType=Peri\n",
      "Token: Natural, Head: Language, Lemma: Natural, Morph: Number=Sing\n",
      "Token: Language, Head: Processing, Lemma: Language, Morph: Number=Sing\n",
      "Token: Processing, Head: is, Lemma: processing, Morph: Number=Sing\n",
      "Token: is, Head: is, Lemma: be, Morph: Mood=Ind|Number=Sing|Person=3|Tense=Pres|VerbForm=Fin\n",
      "Token: fascinating, Head: is, Lemma: fascinating, Morph: Degree=Pos\n",
      "Token: !, Head: is, Lemma: !, Morph: PunctType=Peri\n"
     ]
    }
   ],
   "source": [
    "# Task 1: Tokenization\n",
    "text_1 = \"The quick brown fox doesn't jump over the lazy dog. Natural Language Processing is fascinating!\"\n",
    "doc1 = nlp(text_1) # Uses spaCy's NLP to analyze and extract linguistic features from the text\n",
    "\n",
    "print(\"Task 1: Tokenization\")\n",
    "for token in doc1:\n",
    "    print(f\"Token: {token.text}, Head: {token.head.text}, Lemma: {token.lemma_}, Morph: {token.morph}\")\n",
    "\n",
    "# Answers:\n",
    "# 1. spaCy processes each word or symbol as a token and assigns syntactic information using its dependency parser.\n",
    "# 2. Punctuation like periods and commas are treated as separate tokens with specific POS tags (e.g., 'PUNCT').\n",
    "# 3. Contractions like \"doesn't\" are split into \"does\" and \"n't\" as separate tokens."
   ]
  },
  {
   "cell_type": "code",
   "execution_count": null,
   "metadata": {},
   "outputs": [
    {
     "name": "stdout",
     "output_type": "stream",
     "text": [
      "\n",
      "Task 2: POS Tagging\n",
      "Token: The, POS: DET, Tag: DT\n",
      "Token: quick, POS: ADJ, Tag: JJ\n",
      "Token: brown, POS: ADJ, Tag: JJ\n",
      "Token: fox, POS: NOUN, Tag: NN\n",
      "Token: does, POS: AUX, Tag: VBZ\n",
      "Token: n't, POS: PART, Tag: RB\n",
      "Token: jump, POS: VERB, Tag: VB\n",
      "Token: over, POS: ADP, Tag: IN\n",
      "Token: the, POS: DET, Tag: DT\n",
      "Token: lazy, POS: ADJ, Tag: JJ\n",
      "Token: dog, POS: NOUN, Tag: NN\n",
      "Token: ., POS: PUNCT, Tag: .\n",
      "Token: Natural, POS: PROPN, Tag: NNP\n",
      "Token: Language, POS: PROPN, Tag: NNP\n",
      "Token: Processing, POS: NOUN, Tag: NN\n",
      "Token: is, POS: AUX, Tag: VBZ\n",
      "Token: fascinating, POS: ADJ, Tag: JJ\n",
      "Token: !, POS: PUNCT, Tag: .\n"
     ]
    }
   ],
   "source": [
    "# Task 2: Part-of-Speech Tagging\n",
    "print(\"\\nTask 2: POS Tagging\") \n",
    "\n",
    "for token in doc1: # Loop through each token (word or punctuation) in the processed document\n",
    "    print(f\"Token: {token.text}, POS: {token.pos_}, Tag: {token.tag_}\") # Print the token's text, its part-of-speech (POS) tag, and detailed POS tag\n",
    "\n",
    "# Answers:\n",
    "# 1. \"Quick\": POS is ADJ (adjective), \"jumps\": POS is VERB, and \"is\": POS is AUX (auxiliary verb).\n",
    "# 2. POS tagging helps identify the grammatical structure, making it useful to detect errors (e.g., incorrect verb tense) in grammar checking and properly structure sentences across languages in machine translation."
   ]
  },
  {
   "cell_type": "code",
   "execution_count": null,
   "metadata": {},
   "outputs": [
    {
     "name": "stdout",
     "output_type": "stream",
     "text": [
      "\n",
      "Task 3: Named Entity Recognition\n",
      "Entity: Barack Obama, Label: PERSON\n",
      "Entity: 44th, Label: ORDINAL\n",
      "Entity: the United States, Label: GPE\n",
      "Entity: Hawaii, Label: GPE\n"
     ]
    }
   ],
   "source": [
    "# Task 3: Named Entity Recognition\n",
    "text_2 = \"Barack Obama was the 44th President of the United States. He was born in Hawaii.\"\n",
    "doc2 = nlp(text_2) # Uses spaCy's NLP to analyze and extract linguistic features from the text\n",
    "\n",
    "# Using doc.ents to loop through named entities\n",
    "print(\"\\nTask 3: Named Entity Recognition\")\n",
    "for ent in doc2.ents:  # Uses doc.ents\n",
    "    print(f\"Entity: {ent.text}, Label: {ent.label_}\")  # Uses ent.label_ to get the entity type\n",
    "\n",
    "# Answers:\n",
    "# 1. spaCy recognizes the following entities: \"Barack Obama\" as a PERSON, \"44th\" as ORDINAL, \"President\" as TITLE (implied), \"United States\" as GPE, and \"Hawaii\" as GPE.\n",
    "# 2. Entities assigned: \"Barack Obama\" → PERSON and \"Hawaii\" → GPE (Geo-Political Entity)."
   ]
  },
  {
   "cell_type": "code",
   "execution_count": null,
   "metadata": {},
   "outputs": [
    {
     "name": "stdout",
     "output_type": "stream",
     "text": [
      "\n",
      "Task 4: Experimentation\n",
      "Entity: Rachel, Label: PERSON\n",
      "Entity: NLP, Label: ORG\n",
      "Entity: the University of Notr Dame, Label: ORG\n",
      "\n",
      "Modified Text:\n",
      "Entity: the University of Notre Dame, Label: ORG\n"
     ]
    }
   ],
   "source": [
    "# Task 4: Experimentation\n",
    "text_3 = \"Rachel is studying NLP at the University of Notr Dame!\"\n",
    "doc3 = nlp(text_3)\n",
    "\n",
    "print(\"\\nTask 4: Experimentation\")\n",
    "for ent in doc3.ents:\n",
    "    print(f\"Entity: {ent.text}, Label: {ent.label_}\")\n",
    "\n",
    "# Answers:\n",
    "# - Typo in \"Notr Dame\" (missing 'e') affected NER: \"University of Notr Dame\" may not be recognized as an organization.\n",
    "# - spaCy is sensitive to correct spelling/punctuation; named entities or POS tags can change if the input is malformed.\n",
    "\n",
    "# spaCy modifies analysis based on the changes. Typos or altered phrasing tend to confuse the model and may reduce the accuracy in tagging and/or entity identification.\n",
    "# Entities and tags can change due to spelling errors, different word choices, or punctuation changes. This is due to the fact that spaCy relies on patterns of clean, well-formed language it has seen during training.\n",
    "\n",
    "\n",
    "\n",
    "# Attempt to modify the sentence\n",
    "text4 = \"Rachel studies Natural Language Processing at the University of Notre Dame.\"\n",
    "doc4 = nlp(text4)\n",
    "\n",
    "print(\"\\nModified Text:\")\n",
    "for ent in doc4.ents:\n",
    "    print(f\"Entity: {ent.text}, Label: {ent.label_}\") # When corrected to \"Notre Dame,\" spaCy correctly identifies the university as an ORG (organization)."
   ]
  }
 ],
 "metadata": {
  "kernelspec": {
   "display_name": "base",
   "language": "python",
   "name": "python3"
  },
  "language_info": {
   "codemirror_mode": {
    "name": "ipython",
    "version": 3
   },
   "file_extension": ".py",
   "mimetype": "text/x-python",
   "name": "python",
   "nbconvert_exporter": "python",
   "pygments_lexer": "ipython3",
   "version": "3.12.7"
  }
 },
 "nbformat": 4,
 "nbformat_minor": 2
}
