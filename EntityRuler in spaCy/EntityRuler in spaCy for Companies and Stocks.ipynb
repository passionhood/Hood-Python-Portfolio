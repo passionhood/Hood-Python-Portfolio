{
 "cells": [
  {
   "cell_type": "code",
   "execution_count": null,
   "metadata": {},
   "outputs": [],
   "source": [
    "# Importing the necessary libraries\n",
    "import pandas as pd\n",
    "import spacy\n",
    "from spacy.pipeline import EntityRuler "
   ]
  },
  {
   "cell_type": "code",
   "execution_count": 7,
   "metadata": {},
   "outputs": [],
   "source": [
    "df = pd.read_csv(\"stocks-1.tsv\", sep='\\t')  # loads the dataset"
   ]
  },
  {
   "cell_type": "code",
   "execution_count": null,
   "metadata": {},
   "outputs": [],
   "source": [
    "unique_companies = df['CompanyName'].dropna().unique() # Collects unique company names from the 'CompanyName' column\n",
    "unique_symbols = df['Symbol'].dropna().unique() # Collects unique stock symbols from the 'Symbol' column"
   ]
  },
  {
   "cell_type": "code",
   "execution_count": null,
   "metadata": {},
   "outputs": [],
   "source": [
    "company_patterns = [{\"label\": \"COMPANY\", \"pattern\": name} for name in unique_companies] # Creates a dictionary pattern with label 'COMPANY' for each company name\n",
    "symbol_patterns = [{\"label\": \"STOCK\", \"pattern\": symbol} for symbol in unique_symbols] # Creates a dictionary pattern with label 'STOCK' for each stock symbol"
   ]
  },
  {
   "cell_type": "code",
   "execution_count": 15,
   "metadata": {},
   "outputs": [],
   "source": [
    "nlp = spacy.blank(\"en\") # Creates a blank English NLP pipeline with no preloaded model necessary\n",
    "ruler = nlp.add_pipe(\"entity_ruler\") # Adds the \"EntityRuler\" component to the pipeline\n",
    "ruler.add_patterns(company_patterns + symbol_patterns) # Adds both company and stock symbol patterns to the ruler"
   ]
  },
  {
   "cell_type": "code",
   "execution_count": null,
   "metadata": {},
   "outputs": [],
   "source": [
    "# Sample texts for entity recognition testing\n",
    "paragraphs = [\n",
    "    \"\"\"Helmerich & Payne (HP) saw its stock rise by 1.5%, fueled by optimistic forecasts in the Energy Equipment & Services sector. In contrast, Check-Cap (CHEK) faced a decline of 2.3% following its announcement of increased costs related to supply chain disruptions.\n",
    "\n",
    "    Meanwhile, Vallon Pharmaceuticals (VLON) gained 0.8% after strong quarterly earnings, outperforming its peers in the Biotechnology space. Sequans Communications (SQNS) also recorded a modest increase of 0.5%, reflecting investors' confidence in its ability to navigate challenges in the Semiconductors & Semiconductor Equipment industry.\"\"\",\n",
    "\n",
    "    \"\"\"Aemetis (AMTX) saw its stock rise by 1.5%, fueled by optimistic forecasts in the Oil, Gas & Consumable Fuels sector. In contrast, Ferro Corporation (FOE) faced a decline of 2.3% following its announcement of increased costs related to supply chain disruptions.\n",
    "\n",
    "    Meanwhile, RingCentral (RNG) gained 0.8% after strong quarterly earnings, outperforming its peers in the Software space. ACI Worldwide (ACIW) also recorded a modest increase of 0.5%, reflecting investors' confidence in its ability to navigate challenges in the Software industry.\"\"\",\n",
    "\n",
    "    \"\"\"On a mixed trading day, Par Pacific Holdings (PARR) saw its stock rise by 1.5%, fueled by optimistic forecasts in the Oil, Gas & Consumable Fuels sector. In contrast, Nano Dimension (NNDM) faced a decline of 2.3% following its announcement of increased costs related to supply chain disruptions.\n",
    "\n",
    "    Meanwhile, Beyond Meat (BYND) gained 0.8% after strong quarterly earnings, outperforming its peers in the Food Products space. Apollo Investment (AINV) also recorded a modest increase of 0.5%, reflecting investors' confidence in its ability to navigate challenges in the Capital Markets industry.\"\"\"\n",
    "]\n",
    "# This processes each paragraph and extract entities"
   ]
  },
  {
   "cell_type": "code",
   "execution_count": 18,
   "metadata": {},
   "outputs": [
    {
     "name": "stdout",
     "output_type": "stream",
     "text": [
      "\n",
      "Entities in Paragraph 1:\n",
      "Helmerich & Payne (COMPANY)\n",
      "HP (STOCK)\n",
      "Check-Cap (COMPANY)\n",
      "CHEK (STOCK)\n",
      "Vallon Pharmaceuticals (COMPANY)\n",
      "VLON (STOCK)\n",
      "Sequans Communications (COMPANY)\n",
      "SQNS (STOCK)\n",
      "\n",
      "Entities in Paragraph 2:\n",
      "Aemetis (COMPANY)\n",
      "AMTX (STOCK)\n",
      "Ferro Corporation (COMPANY)\n",
      "FOE (STOCK)\n",
      "RingCentral (COMPANY)\n",
      "RNG (STOCK)\n",
      "ACI Worldwide (COMPANY)\n",
      "ACIW (STOCK)\n",
      "\n",
      "Entities in Paragraph 3:\n",
      "Par Pacific Holdings (COMPANY)\n",
      "PARR (STOCK)\n",
      "Nano Dimension (COMPANY)\n",
      "NNDM (STOCK)\n",
      "Beyond Meat (COMPANY)\n",
      "BYND (STOCK)\n",
      "Apollo Investment (COMPANY)\n",
      "AINV (STOCK)\n"
     ]
    }
   ],
   "source": [
    "for i, paragraph in enumerate(paragraphs, 1): # Loops through each paragraph and apply the NLP pipeline\n",
    "    doc = nlp(paragraph)  # Processes the paragraph with spaCy\n",
    "    print(f\"\\nEntities in Paragraph {i}:\")\n",
    "    \n",
    "    for ent in doc.ents:  # Extract and display all recognized entities with their labels\n",
    "        print(f\"{ent.text} ({ent.label_})\") # Prints the entity text and its label"
   ]
  }
 ],
 "metadata": {
  "kernelspec": {
   "display_name": "base",
   "language": "python",
   "name": "python3"
  },
  "language_info": {
   "codemirror_mode": {
    "name": "ipython",
    "version": 3
   },
   "file_extension": ".py",
   "mimetype": "text/x-python",
   "name": "python",
   "nbconvert_exporter": "python",
   "pygments_lexer": "ipython3",
   "version": "3.12.7"
  }
 },
 "nbformat": 4,
 "nbformat_minor": 2
}
